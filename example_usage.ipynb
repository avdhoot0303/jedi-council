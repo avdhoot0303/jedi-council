{
 "cells": [
  {
   "metadata": {},
   "cell_type": "markdown",
   "source": "",
   "id": "3d8a927ce58d2411"
  },
  {
   "cell_type": "code",
   "id": "initial_id",
   "metadata": {
    "collapsed": true,
    "ExecuteTime": {
     "end_time": "2025-07-29T17:59:41.158996Z",
     "start_time": "2025-07-29T17:59:40.189210Z"
    }
   },
   "source": [
    "import os \n",
    "from jedi_council.core import TheJediCouncil"
   ],
   "outputs": [],
   "execution_count": 1
  },
  {
   "metadata": {
    "ExecuteTime": {
     "end_time": "2025-07-29T18:00:42.976726Z",
     "start_time": "2025-07-29T18:00:42.971870Z"
    }
   },
   "cell_type": "code",
   "source": [
    "models = [\n",
    "    \"gpt-4o\",\n",
    "    \"claude-3-haiku-20240307\",\n",
    "    \"mistral-large-latest\",\n",
    "    \"models/gemini-1.5-pro\"\n",
    "]"
   ],
   "id": "b0b137826d7198a9",
   "outputs": [],
   "execution_count": 2
  },
  {
   "metadata": {
    "ExecuteTime": {
     "end_time": "2025-07-29T18:01:18.942493Z",
     "start_time": "2025-07-29T18:01:18.936580Z"
    }
   },
   "cell_type": "code",
   "source": "prompt = \"What is the philosophy behind the Jedi Code?\"\n",
   "id": "4fa4262698b1157f",
   "outputs": [],
   "execution_count": 3
  },
  {
   "metadata": {
    "ExecuteTime": {
     "end_time": "2025-07-29T18:01:34.894086Z",
     "start_time": "2025-07-29T18:01:34.853270Z"
    }
   },
   "cell_type": "code",
   "source": "council = TheJediCouncil(model=models[0])",
   "id": "fa2664dbfbc7390a",
   "outputs": [
    {
     "name": "stderr",
     "output_type": "stream",
     "text": [
      "2025-07-29 14:01:34,854 - jedi_council.core - INFO - Convening The Jedi Council to consult model: gpt-4o\n"
     ]
    }
   ],
   "execution_count": 4
  },
  {
   "metadata": {
    "ExecuteTime": {
     "end_time": "2025-07-29T18:01:56.486085Z",
     "start_time": "2025-07-29T18:01:46.499306Z"
    }
   },
   "cell_type": "code",
   "source": "response = council.get_wisdom(prompt)\n",
   "id": "94edf5bfb5e98235",
   "outputs": [
    {
     "name": "stderr",
     "output_type": "stream",
     "text": [
      "2025-07-29 14:01:46,500 - jedi_council.core - INFO - Consulting OpenAI model: gpt-4o\n",
      "2025-07-29 14:01:56,471 - httpx - INFO - HTTP Request: POST https://api.openai.com/v1/chat/completions \"HTTP/1.1 200 OK\"\n",
      "2025-07-29 14:01:56,483 - jedi_council.core - INFO - Received wisdom from gpt-4o in 9982ms.\n"
     ]
    }
   ],
   "execution_count": 5
  },
  {
   "metadata": {
    "ExecuteTime": {
     "end_time": "2025-07-29T21:00:30.788764Z",
     "start_time": "2025-07-29T21:00:30.770034Z"
    }
   },
   "cell_type": "code",
   "source": "print(\"Wisdom:\", response.text)\n",
   "id": "bac7ce3630ff78cf",
   "outputs": [
    {
     "name": "stdout",
     "output_type": "stream",
     "text": [
      "Wisdom: The philosophy behind the Jedi Code is rooted in principles of peace, self-discipline, and harmony with the Force. The Jedi Code serves as a moral and ethical guideline for the Jedi Order in the Star Wars universe. It emphasizes the importance of controlling one's emotions, maintaining inner peace, and acting selflessly for the greater good. Here are some key tenets of the Jedi Code:\n",
      "\n",
      "1. **Emotion, yet Peace**: Jedi are encouraged to acknowledge their emotions but not be controlled by them. They strive for inner peace and clarity, allowing them to make decisions that are not clouded by anger, fear, or passion.\n",
      "\n",
      "2. **Ignorance, yet Knowledge**: The pursuit of knowledge and understanding is central to the Jedi philosophy. Jedi are lifelong learners, seeking wisdom and enlightenment to better serve the galaxy.\n",
      "\n",
      "3. **Passion, yet Serenity**: While acknowledging passion, Jedi aim to maintain serenity and calmness. This balance helps them remain focused and avoid the destructive potential of unchecked emotions.\n",
      "\n",
      "4. **Chaos, yet Harmony**: Jedi seek to bring harmony to the galaxy, resolving conflicts and restoring balance. They believe in the interconnectedness of all things and work to maintain equilibrium within the Force.\n",
      "\n",
      "5. **Death, yet the Force**: Jedi accept death as a natural part of life and believe in the continuity of the Force. They understand that life and death are part of a larger cycle and that the Force transcends individual existence.\n",
      "\n",
      "Overall, the Jedi Code encourages a life of service, humility, and compassion, guiding Jedi to act as guardians of peace and justice in the galaxy.\n"
     ]
    }
   ],
   "execution_count": 7
  },
  {
   "metadata": {
    "ExecuteTime": {
     "end_time": "2025-07-29T21:00:38.240073Z",
     "start_time": "2025-07-29T21:00:38.237727Z"
    }
   },
   "cell_type": "code",
   "source": [
    "print(\"Usage:\", f\"{response.usage.input_tokens} in, {response.usage.output_tokens} out\")\n",
    "print(\"Cost: $\", f\"{response.usage.cost:.4f}\")\n",
    "print(\"Latency:\", f\"{int(response.latency_ms)}ms\")"
   ],
   "id": "7c1631bfbd16f25c",
   "outputs": [
    {
     "name": "stdout",
     "output_type": "stream",
     "text": [
      "Usage: 16 in, 323 out\n",
      "Cost: $ 0.0049\n",
      "Latency: 9981ms\n"
     ]
    }
   ],
   "execution_count": 8
  },
  {
   "metadata": {},
   "cell_type": "code",
   "outputs": [],
   "execution_count": null,
   "source": "",
   "id": "81beb38f465fb402"
  }
 ],
 "metadata": {
  "kernelspec": {
   "display_name": "Python 3",
   "language": "python",
   "name": "python3"
  },
  "language_info": {
   "codemirror_mode": {
    "name": "ipython",
    "version": 2
   },
   "file_extension": ".py",
   "mimetype": "text/x-python",
   "name": "python",
   "nbconvert_exporter": "python",
   "pygments_lexer": "ipython2",
   "version": "2.7.6"
  }
 },
 "nbformat": 4,
 "nbformat_minor": 5
}
